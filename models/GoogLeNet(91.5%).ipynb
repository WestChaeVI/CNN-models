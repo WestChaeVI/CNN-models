{
  "nbformat": 4,
  "nbformat_minor": 0,
  "metadata": {
    "colab": {
      "provenance": [],
      "mount_file_id": "1gXU8ccGnb-wRt8XO3TOJCjWLnjzFtCEt",
      "authorship_tag": "ABX9TyMWhwG+FSBnM6vSLJCpPNj5",
      "include_colab_link": true
    },
    "kernelspec": {
      "name": "python3",
      "display_name": "Python 3"
    },
    "language_info": {
      "name": "python"
    },
    "accelerator": "GPU",
    "gpuClass": "standard"
  },
  "cells": [
    {
      "cell_type": "markdown",
      "metadata": {
        "id": "view-in-github",
        "colab_type": "text"
      },
      "source": [
        "<a href=\"https://colab.research.google.com/github/WestChaeVI/CNN-models/blob/main/models/GoogLeNet(91_5%25).ipynb\" target=\"_parent\"><img src=\"https://colab.research.google.com/assets/colab-badge.svg\" alt=\"Open In Colab\"/></a>"
      ]
    },
    {
      "cell_type": "code",
      "source": [
        "%cd /content/drive/MyDrive/CV_seminar_project/"
      ],
      "metadata": {
        "colab": {
          "base_uri": "https://localhost:8080/"
        },
        "id": "BtZR6EkBHkbD",
        "outputId": "4ac5e8cd-4235-4cec-8042-7e358091167a"
      },
      "execution_count": 1,
      "outputs": [
        {
          "output_type": "stream",
          "name": "stdout",
          "text": [
            "/content/drive/MyDrive/CV_seminar_project\n"
          ]
        }
      ]
    },
    {
      "cell_type": "code",
      "source": [
        "import torch\n",
        "import torch.nn as nn\n",
        "\n",
        "device = 'cuda' if torch.cuda.is_available() else 'cpu' # device 배정\n",
        "torch.manual_seed(42)\n",
        "if device == 'cuda':\n",
        "  torch.cuda.manual_seed_all(42)\n",
        "device"
      ],
      "metadata": {
        "colab": {
          "base_uri": "https://localhost:8080/",
          "height": 35
        },
        "id": "FFWXjGWiJJiP",
        "outputId": "d59a65c1-00bf-4f4b-9468-4d895a296f8d"
      },
      "execution_count": 2,
      "outputs": [
        {
          "output_type": "execute_result",
          "data": {
            "text/plain": [
              "'cuda'"
            ],
            "application/vnd.google.colaboratory.intrinsic+json": {
              "type": "string"
            }
          },
          "metadata": {},
          "execution_count": 2
        }
      ]
    },
    {
      "cell_type": "code",
      "source": [
        "import torch.nn as nn\n",
        "\n",
        "# 하이퍼파라미터\n",
        "batch_size = 8\n",
        "lr = 0.0001\n",
        "epochs = 100\n",
        "optimizer_name = 'adam'\n",
        "\n",
        "model_name = 'GoogLeNet'\n",
        "criterion = nn.CrossEntropyLoss().to(device) # cost function 패널티 주는 역할\n",
        "\n",
        "root_path = '/content/drive/MyDrive/CV_seminar_project'\n",
        "train_path = '/content/drive/MyDrive/CV_seminar_project/train'\n",
        "valid_path = '/content/drive/MyDrive/CV_seminar_project/valid'"
      ],
      "metadata": {
        "id": "mq04T8M4HO8s"
      },
      "execution_count": 3,
      "outputs": []
    },
    {
      "cell_type": "code",
      "source": [
        "from cv_dataset import Custom_dataset as C\n",
        "from torch.utils.data import Dataset, DataLoader\n",
        "import cv2\n",
        "import os\n",
        "import torch\n",
        "import torchvision\n",
        "from torchvision import transforms # 이미지 데이터 augmentation\n",
        "import os\n",
        "import glob\n",
        "import albumentations as A\n",
        "from albumentations.pytorch.transforms import ToTensorV2 # albumentations 텐서화 함수\n",
        "\n",
        "train_transforms = A.Compose([\n",
        "    A.Resize(224,224), # \n",
        "    A.Transpose(p=0.5),\n",
        "    A.HorizontalFlip(p=0.5),\n",
        "    A.VerticalFlip(p=0.5),\n",
        "    A.ShiftScaleRotate(p=0.5),\n",
        "    A.HueSaturationValue(hue_shift_limit=20, sat_shift_limit=20, val_shift_limit=20, p=0.5),\n",
        "    A.RandomBrightnessContrast(brightness_limit=(-0.1,0.1), contrast_limit=(-0.1, 0.1), p=0.5),\n",
        "    A.ChannelShuffle(),\n",
        "    A.Normalize(mean=(0.485, 0.456, 0.406), std=(0.229, 0.224, 0.225), max_pixel_value=255.0, always_apply=False, p=1.0), # 이미지넷 데이터셋 통계값으로 Normalize\n",
        "    A.CoarseDropout(p=0.5),\n",
        "    ToTensorV2() # 텐서화만 적용 , pytorch albumentation의 totensor 는 min_max scaling 적용까지\n",
        "])\n",
        "\n",
        "test_transforms = A.Compose([\n",
        "    A.Resize(224,224),\n",
        "    A.Normalize(mean=(0.485, 0.456, 0.406), std=(0.229, 0.224, 0.225), max_pixel_value=255.0, always_apply=False, p=1.0), # 텐서타입은 안해줌\n",
        "    ToTensorV2() # Normalize를 먼저하고 tensor화를 진행해야한다.\n",
        "])\n",
        "\n",
        "### Pytorch 데이터 클래스 생성\n",
        "train_class = C(root_path=root_path, mode='train', transforms=train_transforms)\n",
        "valid_class = C(root_path=root_path, mode='valid', transforms=test_transforms)\n",
        "test_class = C(root_path=root_path, mode='test', transforms=test_transforms)\n",
        "\n",
        "### Pytorch BatchLoader 생성 (학습에 이용할 최종 dataloader)\n",
        "from torch.utils.data import DataLoader as DataLoader\n",
        "\n",
        "train_loader = DataLoader(train_class, batch_size=batch_size, shuffle = True, num_workers=0)\n",
        "valid_loader = DataLoader(valid_class, batch_size=batch_size, shuffle = False, num_workers=0)\n",
        "test_loader = DataLoader(test_class, batch_size=batch_size, shuffle = False, num_workers=0)"
      ],
      "metadata": {
        "id": "GLg-HbhdJrvR"
      },
      "execution_count": 4,
      "outputs": []
    },
    {
      "cell_type": "markdown",
      "source": [
        "# Define Convolution Blocks"
      ],
      "metadata": {
        "id": "cHJSIfjkHEii"
      }
    },
    {
      "cell_type": "markdown",
      "source": [
        "## 1x1 Conv"
      ],
      "metadata": {
        "id": "8vI30Q8cG7Ev"
      }
    },
    {
      "cell_type": "code",
      "source": [
        "def conv_1(in_dim,out_dim):\n",
        "    model = nn.Sequential(\n",
        "        nn.Conv2d(in_dim,out_dim,1,1),\n",
        "        nn.ReLU(),\n",
        "    )\n",
        "    return model"
      ],
      "metadata": {
        "id": "7PU0YkHyHNTj"
      },
      "execution_count": 5,
      "outputs": []
    },
    {
      "cell_type": "markdown",
      "source": [
        "## 1x1 Conv -> 3x3 Conv"
      ],
      "metadata": {
        "id": "g2gxO4QbHRVN"
      }
    },
    {
      "cell_type": "code",
      "source": [
        "def conv_1_3(in_dim,mid_dim,out_dim):\n",
        "    model = nn.Sequential(\n",
        "        nn.Conv2d(in_dim,mid_dim,1,1),\n",
        "        nn.ReLU(),\n",
        "        nn.Conv2d(mid_dim,out_dim,3,1,1),\n",
        "        nn.ReLU()\n",
        "    )\n",
        "    return model"
      ],
      "metadata": {
        "id": "o6mG7GeGHPOl"
      },
      "execution_count": 6,
      "outputs": []
    },
    {
      "cell_type": "markdown",
      "source": [
        "## 1x1 Conv -> 5x5 Conv"
      ],
      "metadata": {
        "id": "-px1AJEgHZCV"
      }
    },
    {
      "cell_type": "code",
      "source": [
        "def conv_1_5(in_dim,mid_dim,out_dim):\n",
        "    model = nn.Sequential(\n",
        "        nn.Conv2d(in_dim,mid_dim,1,1),\n",
        "        nn.ReLU(),\n",
        "        nn.Conv2d(mid_dim,out_dim,5,1,2),\n",
        "        nn.ReLU()\n",
        "    )\n",
        "    return model"
      ],
      "metadata": {
        "id": "jurl3m5xHPJp"
      },
      "execution_count": 7,
      "outputs": []
    },
    {
      "cell_type": "markdown",
      "source": [
        "## 3x3 MaxP -> 1x1 Conv"
      ],
      "metadata": {
        "id": "OGN1_9YYHdVb"
      }
    },
    {
      "cell_type": "code",
      "source": [
        "def max_3_1(in_dim,out_dim):\n",
        "    model = nn.Sequential(\n",
        "        nn.MaxPool2d(kernel_size=3,stride=1,padding=1),\n",
        "        nn.Conv2d(in_dim,out_dim,1,1),\n",
        "        nn.ReLU(),\n",
        "    )\n",
        "    return model"
      ],
      "metadata": {
        "id": "8BZrL1HFHPEj"
      },
      "execution_count": 8,
      "outputs": []
    },
    {
      "cell_type": "markdown",
      "source": [
        "# Define Inception Module"
      ],
      "metadata": {
        "id": "8Z5oPPWcHyLL"
      }
    },
    {
      "cell_type": "markdown",
      "source": [
        "Inception 모듈은 이전 단계에서 정의한 함수들을 활용해서 concat해주는 단계입니다.\n",
        "\n",
        "+ 1x1 Convolution\n",
        "+ 1x1 Convolution -> 3x3 Convolution\n",
        "+ 1x1 Convolution -> 5x5 Convolution\n",
        "+ 3x3 MaxPooling -> 1x1 Convolution"
      ],
      "metadata": {
        "id": "_4N6laedH_zc"
      }
    },
    {
      "cell_type": "code",
      "source": [
        "class inception_module(nn.Module):\n",
        "    def __init__(self,in_dim,out_dim_1,mid_dim_3,out_dim_3,mid_dim_5,out_dim_5,pool_dim):\n",
        "        super(inception_module,self).__init__()\n",
        "        # 1x1 Convolution\n",
        "        self.conv_1 = conv_1(in_dim,out_dim_1)\n",
        "        \n",
        "        # 1x1 Convolution -> 3x3 Convolution\n",
        "        self.conv_1_3 = conv_1_3(in_dim,mid_dim_3,out_dim_3)\n",
        "        \n",
        "        # 1x1 Convolution -> 5x5 Convolution\n",
        "        self.conv_1_5 = conv_1_5(in_dim,mid_dim_5,out_dim_5)\n",
        "        \n",
        "        # 3x3 MaxPooling -> 1x1 Convolution\n",
        "        self.max_3_1 = max_3_1(in_dim,pool_dim)\n",
        "\n",
        "    def forward(self,x):\n",
        "        out_1 = self.conv_1(x)\n",
        "        out_2 = self.conv_1_3(x)\n",
        "        out_3 = self.conv_1_5(x)\n",
        "        out_4 = self.max_3_1(x)\n",
        "        # concat\n",
        "        output = torch.cat([out_1,out_2,out_3,out_4],1)\n",
        "        return output"
      ],
      "metadata": {
        "id": "acP471pBHPCI"
      },
      "execution_count": 9,
      "outputs": []
    },
    {
      "cell_type": "markdown",
      "source": [
        "# Define GoogLeNet "
      ],
      "metadata": {
        "id": "mME9WDT1IMCk"
      }
    },
    {
      "cell_type": "code",
      "source": [
        "class GoogLeNet(nn.Module):\n",
        "    def __init__(self, base_dim, num_classes=3):\n",
        "        super(GoogLeNet, self).__init__()\n",
        "        self.num_classes=num_classes\n",
        "        self.layer_1 = nn.Sequential(\n",
        "            nn.Conv2d(3,base_dim,7,2,3), # [8, 64, 224,224]\n",
        "            nn.MaxPool2d(3,2,1),\n",
        "            nn.Conv2d(base_dim,base_dim*3,3,1,1),\n",
        "            nn.MaxPool2d(3,2,1),\n",
        "        )\n",
        "        self.layer_2 = nn.Sequential(\n",
        "            inception_module(base_dim*3,64,96,128,16,32,32),\n",
        "            inception_module(base_dim*4,128,128,192,32,96,64),\n",
        "            nn.MaxPool2d(3,2,1),\n",
        "        )\n",
        "        self.layer_3 = nn.Sequential(\n",
        "            inception_module(480,192,96,208,16,48,64),\n",
        "            inception_module(512,160,112,224,24,64,64),\n",
        "            inception_module(512,128,128,256,24,64,64),\n",
        "            inception_module(512,112,144,288,32,64,64),\n",
        "            inception_module(528,256,160,320,32,128,128),\n",
        "            nn.MaxPool2d(3,2,1),\n",
        "        )\n",
        "        self.layer_4 = nn.Sequential(\n",
        "            inception_module(832,256,160,320,32,128,128),\n",
        "            inception_module(832,384,192,384,48,128,128), \n",
        "            nn.AvgPool2d(7,1),\n",
        "        )\n",
        "        self.layer_5 = nn.Dropout2d(0.4)\n",
        "        self.fc_layer = nn.Linear(1024,self.num_classes)\n",
        "                \n",
        "        \n",
        "    def forward(self, x):\n",
        "        out = self.layer_1(x)\n",
        "        out = self.layer_2(out)\n",
        "        out = self.layer_3(out)\n",
        "        out = self.layer_4(out)\n",
        "        out = self.layer_5(out)\n",
        "        out = out.view(batch_size,-1)\n",
        "        out = self.fc_layer(out)\n",
        "        return out"
      ],
      "metadata": {
        "id": "9BA94bE9HO_n"
      },
      "execution_count": 10,
      "outputs": []
    },
    {
      "cell_type": "code",
      "source": [
        "from torchvision import models # model 라이브러리\n",
        "\n",
        "googlenet = models.googlenet(pretrained = True).to(device)\n",
        "# fine tuning\n",
        "googlenet.fc = nn.Linear(googlenet.fc.in_features, 3).to(device)"
      ],
      "metadata": {
        "colab": {
          "base_uri": "https://localhost:8080/"
        },
        "id": "jCfXjO5tJtsu",
        "outputId": "7eec61ba-f72d-4dcc-88ec-970bbc39f4a6"
      },
      "execution_count": 11,
      "outputs": [
        {
          "output_type": "stream",
          "name": "stderr",
          "text": [
            "/usr/local/lib/python3.9/dist-packages/torchvision/models/_utils.py:208: UserWarning: The parameter 'pretrained' is deprecated since 0.13 and may be removed in the future, please use 'weights' instead.\n",
            "  warnings.warn(\n",
            "/usr/local/lib/python3.9/dist-packages/torchvision/models/_utils.py:223: UserWarning: Arguments other than a weight enum or `None` for 'weights' are deprecated since 0.13 and may be removed in the future. The current behavior is equivalent to passing `weights=GoogLeNet_Weights.IMAGENET1K_V1`. You can also use `weights=GoogLeNet_Weights.DEFAULT` to get the most up-to-date weights.\n",
            "  warnings.warn(msg)\n"
          ]
        }
      ]
    },
    {
      "cell_type": "code",
      "source": [
        "from torchsummary import summary\n",
        "summary(googlenet, input_size = (3, 224, 224))"
      ],
      "metadata": {
        "colab": {
          "base_uri": "https://localhost:8080/"
        },
        "id": "xe2q3kdcJ20m",
        "outputId": "07a34e02-268c-49ce-ee69-1563f5cfd7f9"
      },
      "execution_count": 12,
      "outputs": [
        {
          "output_type": "stream",
          "name": "stdout",
          "text": [
            "----------------------------------------------------------------\n",
            "        Layer (type)               Output Shape         Param #\n",
            "================================================================\n",
            "            Conv2d-1         [-1, 64, 112, 112]           9,408\n",
            "       BatchNorm2d-2         [-1, 64, 112, 112]             128\n",
            "       BasicConv2d-3         [-1, 64, 112, 112]               0\n",
            "         MaxPool2d-4           [-1, 64, 56, 56]               0\n",
            "            Conv2d-5           [-1, 64, 56, 56]           4,096\n",
            "       BatchNorm2d-6           [-1, 64, 56, 56]             128\n",
            "       BasicConv2d-7           [-1, 64, 56, 56]               0\n",
            "            Conv2d-8          [-1, 192, 56, 56]         110,592\n",
            "       BatchNorm2d-9          [-1, 192, 56, 56]             384\n",
            "      BasicConv2d-10          [-1, 192, 56, 56]               0\n",
            "        MaxPool2d-11          [-1, 192, 28, 28]               0\n",
            "           Conv2d-12           [-1, 64, 28, 28]          12,288\n",
            "      BatchNorm2d-13           [-1, 64, 28, 28]             128\n",
            "      BasicConv2d-14           [-1, 64, 28, 28]               0\n",
            "           Conv2d-15           [-1, 96, 28, 28]          18,432\n",
            "      BatchNorm2d-16           [-1, 96, 28, 28]             192\n",
            "      BasicConv2d-17           [-1, 96, 28, 28]               0\n",
            "           Conv2d-18          [-1, 128, 28, 28]         110,592\n",
            "      BatchNorm2d-19          [-1, 128, 28, 28]             256\n",
            "      BasicConv2d-20          [-1, 128, 28, 28]               0\n",
            "           Conv2d-21           [-1, 16, 28, 28]           3,072\n",
            "      BatchNorm2d-22           [-1, 16, 28, 28]              32\n",
            "      BasicConv2d-23           [-1, 16, 28, 28]               0\n",
            "           Conv2d-24           [-1, 32, 28, 28]           4,608\n",
            "      BatchNorm2d-25           [-1, 32, 28, 28]              64\n",
            "      BasicConv2d-26           [-1, 32, 28, 28]               0\n",
            "        MaxPool2d-27          [-1, 192, 28, 28]               0\n",
            "           Conv2d-28           [-1, 32, 28, 28]           6,144\n",
            "      BatchNorm2d-29           [-1, 32, 28, 28]              64\n",
            "      BasicConv2d-30           [-1, 32, 28, 28]               0\n",
            "        Inception-31          [-1, 256, 28, 28]               0\n",
            "           Conv2d-32          [-1, 128, 28, 28]          32,768\n",
            "      BatchNorm2d-33          [-1, 128, 28, 28]             256\n",
            "      BasicConv2d-34          [-1, 128, 28, 28]               0\n",
            "           Conv2d-35          [-1, 128, 28, 28]          32,768\n",
            "      BatchNorm2d-36          [-1, 128, 28, 28]             256\n",
            "      BasicConv2d-37          [-1, 128, 28, 28]               0\n",
            "           Conv2d-38          [-1, 192, 28, 28]         221,184\n",
            "      BatchNorm2d-39          [-1, 192, 28, 28]             384\n",
            "      BasicConv2d-40          [-1, 192, 28, 28]               0\n",
            "           Conv2d-41           [-1, 32, 28, 28]           8,192\n",
            "      BatchNorm2d-42           [-1, 32, 28, 28]              64\n",
            "      BasicConv2d-43           [-1, 32, 28, 28]               0\n",
            "           Conv2d-44           [-1, 96, 28, 28]          27,648\n",
            "      BatchNorm2d-45           [-1, 96, 28, 28]             192\n",
            "      BasicConv2d-46           [-1, 96, 28, 28]               0\n",
            "        MaxPool2d-47          [-1, 256, 28, 28]               0\n",
            "           Conv2d-48           [-1, 64, 28, 28]          16,384\n",
            "      BatchNorm2d-49           [-1, 64, 28, 28]             128\n",
            "      BasicConv2d-50           [-1, 64, 28, 28]               0\n",
            "        Inception-51          [-1, 480, 28, 28]               0\n",
            "        MaxPool2d-52          [-1, 480, 14, 14]               0\n",
            "           Conv2d-53          [-1, 192, 14, 14]          92,160\n",
            "      BatchNorm2d-54          [-1, 192, 14, 14]             384\n",
            "      BasicConv2d-55          [-1, 192, 14, 14]               0\n",
            "           Conv2d-56           [-1, 96, 14, 14]          46,080\n",
            "      BatchNorm2d-57           [-1, 96, 14, 14]             192\n",
            "      BasicConv2d-58           [-1, 96, 14, 14]               0\n",
            "           Conv2d-59          [-1, 208, 14, 14]         179,712\n",
            "      BatchNorm2d-60          [-1, 208, 14, 14]             416\n",
            "      BasicConv2d-61          [-1, 208, 14, 14]               0\n",
            "           Conv2d-62           [-1, 16, 14, 14]           7,680\n",
            "      BatchNorm2d-63           [-1, 16, 14, 14]              32\n",
            "      BasicConv2d-64           [-1, 16, 14, 14]               0\n",
            "           Conv2d-65           [-1, 48, 14, 14]           6,912\n",
            "      BatchNorm2d-66           [-1, 48, 14, 14]              96\n",
            "      BasicConv2d-67           [-1, 48, 14, 14]               0\n",
            "        MaxPool2d-68          [-1, 480, 14, 14]               0\n",
            "           Conv2d-69           [-1, 64, 14, 14]          30,720\n",
            "      BatchNorm2d-70           [-1, 64, 14, 14]             128\n",
            "      BasicConv2d-71           [-1, 64, 14, 14]               0\n",
            "        Inception-72          [-1, 512, 14, 14]               0\n",
            "           Conv2d-73          [-1, 160, 14, 14]          81,920\n",
            "      BatchNorm2d-74          [-1, 160, 14, 14]             320\n",
            "      BasicConv2d-75          [-1, 160, 14, 14]               0\n",
            "           Conv2d-76          [-1, 112, 14, 14]          57,344\n",
            "      BatchNorm2d-77          [-1, 112, 14, 14]             224\n",
            "      BasicConv2d-78          [-1, 112, 14, 14]               0\n",
            "           Conv2d-79          [-1, 224, 14, 14]         225,792\n",
            "      BatchNorm2d-80          [-1, 224, 14, 14]             448\n",
            "      BasicConv2d-81          [-1, 224, 14, 14]               0\n",
            "           Conv2d-82           [-1, 24, 14, 14]          12,288\n",
            "      BatchNorm2d-83           [-1, 24, 14, 14]              48\n",
            "      BasicConv2d-84           [-1, 24, 14, 14]               0\n",
            "           Conv2d-85           [-1, 64, 14, 14]          13,824\n",
            "      BatchNorm2d-86           [-1, 64, 14, 14]             128\n",
            "      BasicConv2d-87           [-1, 64, 14, 14]               0\n",
            "        MaxPool2d-88          [-1, 512, 14, 14]               0\n",
            "           Conv2d-89           [-1, 64, 14, 14]          32,768\n",
            "      BatchNorm2d-90           [-1, 64, 14, 14]             128\n",
            "      BasicConv2d-91           [-1, 64, 14, 14]               0\n",
            "        Inception-92          [-1, 512, 14, 14]               0\n",
            "           Conv2d-93          [-1, 128, 14, 14]          65,536\n",
            "      BatchNorm2d-94          [-1, 128, 14, 14]             256\n",
            "      BasicConv2d-95          [-1, 128, 14, 14]               0\n",
            "           Conv2d-96          [-1, 128, 14, 14]          65,536\n",
            "      BatchNorm2d-97          [-1, 128, 14, 14]             256\n",
            "      BasicConv2d-98          [-1, 128, 14, 14]               0\n",
            "           Conv2d-99          [-1, 256, 14, 14]         294,912\n",
            "     BatchNorm2d-100          [-1, 256, 14, 14]             512\n",
            "     BasicConv2d-101          [-1, 256, 14, 14]               0\n",
            "          Conv2d-102           [-1, 24, 14, 14]          12,288\n",
            "     BatchNorm2d-103           [-1, 24, 14, 14]              48\n",
            "     BasicConv2d-104           [-1, 24, 14, 14]               0\n",
            "          Conv2d-105           [-1, 64, 14, 14]          13,824\n",
            "     BatchNorm2d-106           [-1, 64, 14, 14]             128\n",
            "     BasicConv2d-107           [-1, 64, 14, 14]               0\n",
            "       MaxPool2d-108          [-1, 512, 14, 14]               0\n",
            "          Conv2d-109           [-1, 64, 14, 14]          32,768\n",
            "     BatchNorm2d-110           [-1, 64, 14, 14]             128\n",
            "     BasicConv2d-111           [-1, 64, 14, 14]               0\n",
            "       Inception-112          [-1, 512, 14, 14]               0\n",
            "          Conv2d-113          [-1, 112, 14, 14]          57,344\n",
            "     BatchNorm2d-114          [-1, 112, 14, 14]             224\n",
            "     BasicConv2d-115          [-1, 112, 14, 14]               0\n",
            "          Conv2d-116          [-1, 144, 14, 14]          73,728\n",
            "     BatchNorm2d-117          [-1, 144, 14, 14]             288\n",
            "     BasicConv2d-118          [-1, 144, 14, 14]               0\n",
            "          Conv2d-119          [-1, 288, 14, 14]         373,248\n",
            "     BatchNorm2d-120          [-1, 288, 14, 14]             576\n",
            "     BasicConv2d-121          [-1, 288, 14, 14]               0\n",
            "          Conv2d-122           [-1, 32, 14, 14]          16,384\n",
            "     BatchNorm2d-123           [-1, 32, 14, 14]              64\n",
            "     BasicConv2d-124           [-1, 32, 14, 14]               0\n",
            "          Conv2d-125           [-1, 64, 14, 14]          18,432\n",
            "     BatchNorm2d-126           [-1, 64, 14, 14]             128\n",
            "     BasicConv2d-127           [-1, 64, 14, 14]               0\n",
            "       MaxPool2d-128          [-1, 512, 14, 14]               0\n",
            "          Conv2d-129           [-1, 64, 14, 14]          32,768\n",
            "     BatchNorm2d-130           [-1, 64, 14, 14]             128\n",
            "     BasicConv2d-131           [-1, 64, 14, 14]               0\n",
            "       Inception-132          [-1, 528, 14, 14]               0\n",
            "          Conv2d-133          [-1, 256, 14, 14]         135,168\n",
            "     BatchNorm2d-134          [-1, 256, 14, 14]             512\n",
            "     BasicConv2d-135          [-1, 256, 14, 14]               0\n",
            "          Conv2d-136          [-1, 160, 14, 14]          84,480\n",
            "     BatchNorm2d-137          [-1, 160, 14, 14]             320\n",
            "     BasicConv2d-138          [-1, 160, 14, 14]               0\n",
            "          Conv2d-139          [-1, 320, 14, 14]         460,800\n",
            "     BatchNorm2d-140          [-1, 320, 14, 14]             640\n",
            "     BasicConv2d-141          [-1, 320, 14, 14]               0\n",
            "          Conv2d-142           [-1, 32, 14, 14]          16,896\n",
            "     BatchNorm2d-143           [-1, 32, 14, 14]              64\n",
            "     BasicConv2d-144           [-1, 32, 14, 14]               0\n",
            "          Conv2d-145          [-1, 128, 14, 14]          36,864\n",
            "     BatchNorm2d-146          [-1, 128, 14, 14]             256\n",
            "     BasicConv2d-147          [-1, 128, 14, 14]               0\n",
            "       MaxPool2d-148          [-1, 528, 14, 14]               0\n",
            "          Conv2d-149          [-1, 128, 14, 14]          67,584\n",
            "     BatchNorm2d-150          [-1, 128, 14, 14]             256\n",
            "     BasicConv2d-151          [-1, 128, 14, 14]               0\n",
            "       Inception-152          [-1, 832, 14, 14]               0\n",
            "       MaxPool2d-153            [-1, 832, 7, 7]               0\n",
            "          Conv2d-154            [-1, 256, 7, 7]         212,992\n",
            "     BatchNorm2d-155            [-1, 256, 7, 7]             512\n",
            "     BasicConv2d-156            [-1, 256, 7, 7]               0\n",
            "          Conv2d-157            [-1, 160, 7, 7]         133,120\n",
            "     BatchNorm2d-158            [-1, 160, 7, 7]             320\n",
            "     BasicConv2d-159            [-1, 160, 7, 7]               0\n",
            "          Conv2d-160            [-1, 320, 7, 7]         460,800\n",
            "     BatchNorm2d-161            [-1, 320, 7, 7]             640\n",
            "     BasicConv2d-162            [-1, 320, 7, 7]               0\n",
            "          Conv2d-163             [-1, 32, 7, 7]          26,624\n",
            "     BatchNorm2d-164             [-1, 32, 7, 7]              64\n",
            "     BasicConv2d-165             [-1, 32, 7, 7]               0\n",
            "          Conv2d-166            [-1, 128, 7, 7]          36,864\n",
            "     BatchNorm2d-167            [-1, 128, 7, 7]             256\n",
            "     BasicConv2d-168            [-1, 128, 7, 7]               0\n",
            "       MaxPool2d-169            [-1, 832, 7, 7]               0\n",
            "          Conv2d-170            [-1, 128, 7, 7]         106,496\n",
            "     BatchNorm2d-171            [-1, 128, 7, 7]             256\n",
            "     BasicConv2d-172            [-1, 128, 7, 7]               0\n",
            "       Inception-173            [-1, 832, 7, 7]               0\n",
            "          Conv2d-174            [-1, 384, 7, 7]         319,488\n",
            "     BatchNorm2d-175            [-1, 384, 7, 7]             768\n",
            "     BasicConv2d-176            [-1, 384, 7, 7]               0\n",
            "          Conv2d-177            [-1, 192, 7, 7]         159,744\n",
            "     BatchNorm2d-178            [-1, 192, 7, 7]             384\n",
            "     BasicConv2d-179            [-1, 192, 7, 7]               0\n",
            "          Conv2d-180            [-1, 384, 7, 7]         663,552\n",
            "     BatchNorm2d-181            [-1, 384, 7, 7]             768\n",
            "     BasicConv2d-182            [-1, 384, 7, 7]               0\n",
            "          Conv2d-183             [-1, 48, 7, 7]          39,936\n",
            "     BatchNorm2d-184             [-1, 48, 7, 7]              96\n",
            "     BasicConv2d-185             [-1, 48, 7, 7]               0\n",
            "          Conv2d-186            [-1, 128, 7, 7]          55,296\n",
            "     BatchNorm2d-187            [-1, 128, 7, 7]             256\n",
            "     BasicConv2d-188            [-1, 128, 7, 7]               0\n",
            "       MaxPool2d-189            [-1, 832, 7, 7]               0\n",
            "          Conv2d-190            [-1, 128, 7, 7]         106,496\n",
            "     BatchNorm2d-191            [-1, 128, 7, 7]             256\n",
            "     BasicConv2d-192            [-1, 128, 7, 7]               0\n",
            "       Inception-193           [-1, 1024, 7, 7]               0\n",
            "AdaptiveAvgPool2d-194           [-1, 1024, 1, 1]               0\n",
            "         Dropout-195                 [-1, 1024]               0\n",
            "          Linear-196                    [-1, 3]           3,075\n",
            "================================================================\n",
            "Total params: 5,602,979\n",
            "Trainable params: 5,602,979\n",
            "Non-trainable params: 0\n",
            "----------------------------------------------------------------\n",
            "Input size (MB): 0.57\n",
            "Forward/backward pass size (MB): 94.10\n",
            "Params size (MB): 21.37\n",
            "Estimated Total Size (MB): 116.05\n",
            "----------------------------------------------------------------\n"
          ]
        }
      ]
    },
    {
      "cell_type": "code",
      "source": [
        "optimizer = torch.optim.Adam(googlenet.parameters(), lr = lr, weight_decay = 1e-8) # 학습을 할수록 학습률 낮춰주는 역할(러닝 보폭 줄이기, 섬세하게 보기위해)"
      ],
      "metadata": {
        "id": "yYdb88mzQHFw"
      },
      "execution_count": 13,
      "outputs": []
    },
    {
      "cell_type": "code",
      "source": [
        "from tqdm import tqdm\n",
        "from tensorflow import summary\n",
        "from torch.utils.tensorboard import SummaryWriter\n",
        "import argparse\n",
        "import logging\n",
        "from pathlib import Path\n",
        "from torch import optim\n",
        "import numpy as np\n",
        "\n",
        "train_acc_lst, train_loss_lst, test_acc_lst, test_loss_lst= [], [], [], []\n",
        "\n",
        "epochs = 100\n",
        "model = googlenet\n",
        "model_name = 'GoogLeNet'\n",
        "state={}\n",
        "\n",
        "for epoch in range(1, epochs+1):\n",
        "\n",
        "  train_loss = 0.0\n",
        "  total = 0\n",
        "  correct = 0\n",
        "  train_acc = 0\n",
        "  \n",
        "  model.train()\n",
        "  for i, (train_img, train_label) in enumerate(train_loader):\n",
        "    # gpu에 할당\n",
        "    train_img = train_img.to(device)\n",
        "    train_label = train_label.to(device)\n",
        "\n",
        "    output = model(train_img) # 모델에 입력\n",
        "\n",
        "    optimizer.zero_grad( set_to_none = True ) # 계산했던 가중치 초기화    \n",
        "    loss = criterion(output, train_label)\n",
        "    loss.backward() # 미분\n",
        "    optimizer.step() # 학습\n",
        "\n",
        "    # loss & acc\n",
        "    train_loss += loss.item()\n",
        "    _, predictions = torch.max(output.data ,dim = 1)\n",
        "   \n",
        "    total += train_label.size(0)\n",
        "    correct += (predictions == train_label).sum().item()\n",
        "    train_acc += 100 * (correct / total)\n",
        "\n",
        "  train_loss = round(train_loss/(i+1), 3) # 소수점 반올림\n",
        "  train_acc = round(train_acc/(i+1), 3)\n",
        "  print(f'Trainset {epoch}/{epochs} Loss : {train_loss}, Accuracy : {train_acc}%')\n",
        "  train_acc_lst.append(train_acc)\n",
        "  train_loss_lst.append(train_loss)\n",
        "\n",
        "  # -------------------------------------------------------------------------------------\n",
        "  test_loss = 0.0\n",
        "  corrects = 0\n",
        "  totals = 0\n",
        "  test_acc = 0\n",
        "\n",
        "  model.eval()\n",
        "  with torch.no_grad():\n",
        "\n",
        "    for i, (valid_img, valid_label) in enumerate(valid_loader):\n",
        "          # gpu에 할당\n",
        "      valid_img = valid_img.to(device)\n",
        "      valid_label = valid_label.to(device)\n",
        "\n",
        "      outputs = model(valid_img) # 모델에 입력\n",
        "      losses = criterion(outputs, valid_label)\n",
        "\n",
        "      # loss & acc\n",
        "      test_loss += losses.item()\n",
        "      _, predictions = torch.max(outputs.data ,dim = 1 )\n",
        "    \n",
        "      totals += valid_label.size(0)\n",
        "      corrects += (predictions == valid_label).sum().item()\n",
        "      test_acc += 100 * (corrects / totals)\n",
        "\n",
        "    test_loss = round(test_loss/(i+1), 3) # 소수점 반올림\n",
        "    test_acc = round(test_acc/(i+1), 3)\n",
        "    print(f'Validset {epoch}/{epochs} Loss : {test_loss}, Accuracy : {test_acc}% \\n')\n",
        "    test_loss_lst.append(test_loss)\n",
        "    test_acc_lst.append(test_acc)\n",
        "  \n",
        "  # 모델 저장\n",
        "  if np.max(test_acc_lst) <= test_acc:\n",
        "\n",
        "    state['epoch'] = epoch\n",
        "    state['net'] = model.state_dict()\n",
        "\n",
        "    state['train_loss'] = train_loss\n",
        "    state['test_loss'] = test_loss\n",
        "\n",
        "    state['train_acc'] = train_acc\n",
        "    state['test_acc'] = test_acc\n",
        "torch.save(state, '/content/drive/MyDrive/CV_seminar_project/GoogLeNet_{}_{}.pth'.format(str(state['epoch']), str(state['test_acc'])))"
      ],
      "metadata": {
        "colab": {
          "base_uri": "https://localhost:8080/"
        },
        "id": "Z7v2MNDJQY0V",
        "outputId": "f604044a-61dc-43c8-c4e7-a2cb5956e639"
      },
      "execution_count": 14,
      "outputs": [
        {
          "output_type": "stream",
          "name": "stdout",
          "text": [
            "Trainset 1/100 Loss : 0.897, Accuracy : 49.491%\n",
            "Validset 1/100 Loss : 0.645, Accuracy : 66.259% \n",
            "\n",
            "Trainset 2/100 Loss : 0.628, Accuracy : 77.28%\n",
            "Validset 2/100 Loss : 0.494, Accuracy : 74.524% \n",
            "\n",
            "Trainset 3/100 Loss : 0.554, Accuracy : 76.285%\n",
            "Validset 3/100 Loss : 0.554, Accuracy : 82.021% \n",
            "\n",
            "Trainset 4/100 Loss : 0.478, Accuracy : 81.746%\n",
            "Validset 4/100 Loss : 0.441, Accuracy : 82.082% \n",
            "\n",
            "Trainset 5/100 Loss : 0.434, Accuracy : 81.784%\n",
            "Validset 5/100 Loss : 0.397, Accuracy : 77.302% \n",
            "\n",
            "Trainset 6/100 Loss : 0.403, Accuracy : 81.868%\n",
            "Validset 6/100 Loss : 0.346, Accuracy : 76.467% \n",
            "\n",
            "Trainset 7/100 Loss : 0.394, Accuracy : 85.511%\n",
            "Validset 7/100 Loss : 0.348, Accuracy : 85.911% \n",
            "\n",
            "Trainset 8/100 Loss : 0.339, Accuracy : 90.488%\n",
            "Validset 8/100 Loss : 0.393, Accuracy : 77.899% \n",
            "\n",
            "Trainset 9/100 Loss : 0.374, Accuracy : 82.973%\n",
            "Validset 9/100 Loss : 0.338, Accuracy : 83.763% \n",
            "\n",
            "Trainset 10/100 Loss : 0.319, Accuracy : 88.999%\n",
            "Validset 10/100 Loss : 0.371, Accuracy : 81.679% \n",
            "\n",
            "Trainset 11/100 Loss : 0.326, Accuracy : 85.21%\n",
            "Validset 11/100 Loss : 0.302, Accuracy : 84.96% \n",
            "\n",
            "Trainset 12/100 Loss : 0.314, Accuracy : 89.208%\n",
            "Validset 12/100 Loss : 0.331, Accuracy : 85.158% \n",
            "\n",
            "Trainset 13/100 Loss : 0.272, Accuracy : 89.095%\n",
            "Validset 13/100 Loss : 0.305, Accuracy : 83.988% \n",
            "\n",
            "Trainset 14/100 Loss : 0.252, Accuracy : 90.611%\n",
            "Validset 14/100 Loss : 0.304, Accuracy : 81.362% \n",
            "\n",
            "Trainset 15/100 Loss : 0.228, Accuracy : 91.332%\n",
            "Validset 15/100 Loss : 0.357, Accuracy : 86.011% \n",
            "\n",
            "Trainset 16/100 Loss : 0.214, Accuracy : 93.048%\n",
            "Validset 16/100 Loss : 0.32, Accuracy : 81.015% \n",
            "\n",
            "Trainset 17/100 Loss : 0.208, Accuracy : 92.918%\n",
            "Validset 17/100 Loss : 0.314, Accuracy : 87.137% \n",
            "\n",
            "Trainset 18/100 Loss : 0.232, Accuracy : 92.777%\n",
            "Validset 18/100 Loss : 0.286, Accuracy : 87.006% \n",
            "\n",
            "Trainset 19/100 Loss : 0.224, Accuracy : 92.872%\n",
            "Validset 19/100 Loss : 0.31, Accuracy : 80.604% \n",
            "\n",
            "Trainset 20/100 Loss : 0.193, Accuracy : 93.457%\n",
            "Validset 20/100 Loss : 0.284, Accuracy : 77.425% \n",
            "\n",
            "Trainset 21/100 Loss : 0.208, Accuracy : 93.181%\n",
            "Validset 21/100 Loss : 0.309, Accuracy : 82.311% \n",
            "\n",
            "Trainset 22/100 Loss : 0.197, Accuracy : 91.385%\n",
            "Validset 22/100 Loss : 0.308, Accuracy : 84.827% \n",
            "\n",
            "Trainset 23/100 Loss : 0.177, Accuracy : 92.343%\n",
            "Validset 23/100 Loss : 0.27, Accuracy : 88.291% \n",
            "\n",
            "Trainset 24/100 Loss : 0.183, Accuracy : 93.571%\n",
            "Validset 24/100 Loss : 0.292, Accuracy : 88.553% \n",
            "\n",
            "Trainset 25/100 Loss : 0.167, Accuracy : 94.204%\n",
            "Validset 25/100 Loss : 0.303, Accuracy : 86.281% \n",
            "\n",
            "Trainset 26/100 Loss : 0.163, Accuracy : 95.562%\n",
            "Validset 26/100 Loss : 0.285, Accuracy : 86.834% \n",
            "\n",
            "Trainset 27/100 Loss : 0.174, Accuracy : 92.741%\n",
            "Validset 27/100 Loss : 0.262, Accuracy : 85.678% \n",
            "\n",
            "Trainset 28/100 Loss : 0.194, Accuracy : 93.592%\n",
            "Validset 28/100 Loss : 0.293, Accuracy : 83.885% \n",
            "\n",
            "Trainset 29/100 Loss : 0.128, Accuracy : 95.336%\n",
            "Validset 29/100 Loss : 0.29, Accuracy : 81.218% \n",
            "\n",
            "Trainset 30/100 Loss : 0.128, Accuracy : 94.991%\n",
            "Validset 30/100 Loss : 0.281, Accuracy : 87.326% \n",
            "\n",
            "Trainset 31/100 Loss : 0.14, Accuracy : 97.086%\n",
            "Validset 31/100 Loss : 0.302, Accuracy : 84.475% \n",
            "\n",
            "Trainset 32/100 Loss : 0.14, Accuracy : 95.954%\n",
            "Validset 32/100 Loss : 0.29, Accuracy : 84.264% \n",
            "\n",
            "Trainset 33/100 Loss : 0.129, Accuracy : 96.084%\n",
            "Validset 33/100 Loss : 0.315, Accuracy : 85.402% \n",
            "\n",
            "Trainset 34/100 Loss : 0.125, Accuracy : 95.61%\n",
            "Validset 34/100 Loss : 0.29, Accuracy : 89.129% \n",
            "\n",
            "Trainset 35/100 Loss : 0.121, Accuracy : 94.386%\n",
            "Validset 35/100 Loss : 0.275, Accuracy : 86.544% \n",
            "\n",
            "Trainset 36/100 Loss : 0.142, Accuracy : 93.266%\n",
            "Validset 36/100 Loss : 0.328, Accuracy : 89.558% \n",
            "\n",
            "Trainset 37/100 Loss : 0.12, Accuracy : 96.626%\n",
            "Validset 37/100 Loss : 0.309, Accuracy : 81.686% \n",
            "\n",
            "Trainset 38/100 Loss : 0.108, Accuracy : 96.143%\n",
            "Validset 38/100 Loss : 0.248, Accuracy : 88.289% \n",
            "\n",
            "Trainset 39/100 Loss : 0.1, Accuracy : 95.227%\n",
            "Validset 39/100 Loss : 0.309, Accuracy : 90.106% \n",
            "\n",
            "Trainset 40/100 Loss : 0.138, Accuracy : 95.074%\n",
            "Validset 40/100 Loss : 0.287, Accuracy : 82.587% \n",
            "\n",
            "Trainset 41/100 Loss : 0.133, Accuracy : 93.235%\n",
            "Validset 41/100 Loss : 0.325, Accuracy : 83.579% \n",
            "\n",
            "Trainset 42/100 Loss : 0.109, Accuracy : 96.416%\n",
            "Validset 42/100 Loss : 0.406, Accuracy : 84.484% \n",
            "\n",
            "Trainset 43/100 Loss : 0.129, Accuracy : 96.431%\n",
            "Validset 43/100 Loss : 0.253, Accuracy : 87.45% \n",
            "\n",
            "Trainset 44/100 Loss : 0.104, Accuracy : 97.217%\n",
            "Validset 44/100 Loss : 0.284, Accuracy : 85.467% \n",
            "\n",
            "Trainset 45/100 Loss : 0.129, Accuracy : 95.411%\n",
            "Validset 45/100 Loss : 0.231, Accuracy : 88.436% \n",
            "\n",
            "Trainset 46/100 Loss : 0.118, Accuracy : 96.912%\n",
            "Validset 46/100 Loss : 0.302, Accuracy : 85.428% \n",
            "\n",
            "Trainset 47/100 Loss : 0.103, Accuracy : 96.246%\n",
            "Validset 47/100 Loss : 0.265, Accuracy : 88.962% \n",
            "\n",
            "Trainset 48/100 Loss : 0.11, Accuracy : 96.334%\n",
            "Validset 48/100 Loss : 0.307, Accuracy : 86.018% \n",
            "\n",
            "Trainset 49/100 Loss : 0.105, Accuracy : 96.256%\n",
            "Validset 49/100 Loss : 0.282, Accuracy : 86.145% \n",
            "\n",
            "Trainset 50/100 Loss : 0.103, Accuracy : 96.032%\n",
            "Validset 50/100 Loss : 0.266, Accuracy : 85.835% \n",
            "\n",
            "Trainset 51/100 Loss : 0.105, Accuracy : 96.95%\n",
            "Validset 51/100 Loss : 0.311, Accuracy : 87.844% \n",
            "\n",
            "Trainset 52/100 Loss : 0.096, Accuracy : 97.068%\n",
            "Validset 52/100 Loss : 0.311, Accuracy : 88.188% \n",
            "\n",
            "Trainset 53/100 Loss : 0.11, Accuracy : 95.673%\n",
            "Validset 53/100 Loss : 0.253, Accuracy : 88.261% \n",
            "\n",
            "Trainset 54/100 Loss : 0.099, Accuracy : 97.172%\n",
            "Validset 54/100 Loss : 0.251, Accuracy : 87.034% \n",
            "\n",
            "Trainset 55/100 Loss : 0.072, Accuracy : 98.575%\n",
            "Validset 55/100 Loss : 0.215, Accuracy : 90.734% \n",
            "\n",
            "Trainset 56/100 Loss : 0.147, Accuracy : 96.177%\n",
            "Validset 56/100 Loss : 0.308, Accuracy : 87.276% \n",
            "\n",
            "Trainset 57/100 Loss : 0.074, Accuracy : 97.533%\n",
            "Validset 57/100 Loss : 0.316, Accuracy : 84.847% \n",
            "\n",
            "Trainset 58/100 Loss : 0.067, Accuracy : 98.021%\n",
            "Validset 58/100 Loss : 0.314, Accuracy : 84.945% \n",
            "\n",
            "Trainset 59/100 Loss : 0.099, Accuracy : 97.66%\n",
            "Validset 59/100 Loss : 0.355, Accuracy : 84.549% \n",
            "\n",
            "Trainset 60/100 Loss : 0.076, Accuracy : 96.988%\n",
            "Validset 60/100 Loss : 0.35, Accuracy : 88.568% \n",
            "\n",
            "Trainset 61/100 Loss : 0.098, Accuracy : 96.909%\n",
            "Validset 61/100 Loss : 0.309, Accuracy : 86.535% \n",
            "\n",
            "Trainset 62/100 Loss : 0.063, Accuracy : 97.917%\n",
            "Validset 62/100 Loss : 0.269, Accuracy : 87.558% \n",
            "\n",
            "Trainset 63/100 Loss : 0.119, Accuracy : 94.403%\n",
            "Validset 63/100 Loss : 0.304, Accuracy : 86.142% \n",
            "\n",
            "Trainset 64/100 Loss : 0.064, Accuracy : 98.376%\n",
            "Validset 64/100 Loss : 0.32, Accuracy : 83.617% \n",
            "\n",
            "Trainset 65/100 Loss : 0.11, Accuracy : 96.916%\n",
            "Validset 65/100 Loss : 0.351, Accuracy : 85.382% \n",
            "\n",
            "Trainset 66/100 Loss : 0.078, Accuracy : 97.154%\n",
            "Validset 66/100 Loss : 0.301, Accuracy : 84.502% \n",
            "\n",
            "Trainset 67/100 Loss : 0.075, Accuracy : 98.204%\n",
            "Validset 67/100 Loss : 0.304, Accuracy : 82.6% \n",
            "\n",
            "Trainset 68/100 Loss : 0.094, Accuracy : 96.383%\n",
            "Validset 68/100 Loss : 0.363, Accuracy : 83.07% \n",
            "\n",
            "Trainset 69/100 Loss : 0.096, Accuracy : 96.723%\n",
            "Validset 69/100 Loss : 0.348, Accuracy : 83.697% \n",
            "\n",
            "Trainset 70/100 Loss : 0.09, Accuracy : 96.758%\n",
            "Validset 70/100 Loss : 0.345, Accuracy : 82.185% \n",
            "\n",
            "Trainset 71/100 Loss : 0.078, Accuracy : 97.448%\n",
            "Validset 71/100 Loss : 0.322, Accuracy : 83.267% \n",
            "\n",
            "Trainset 72/100 Loss : 0.108, Accuracy : 97.389%\n",
            "Validset 72/100 Loss : 0.412, Accuracy : 82.108% \n",
            "\n",
            "Trainset 73/100 Loss : 0.091, Accuracy : 96.058%\n",
            "Validset 73/100 Loss : 0.371, Accuracy : 85.718% \n",
            "\n",
            "Trainset 74/100 Loss : 0.072, Accuracy : 97.194%\n",
            "Validset 74/100 Loss : 0.347, Accuracy : 80.744% \n",
            "\n",
            "Trainset 75/100 Loss : 0.045, Accuracy : 99.258%\n",
            "Validset 75/100 Loss : 0.284, Accuracy : 88.665% \n",
            "\n",
            "Trainset 76/100 Loss : 0.091, Accuracy : 96.69%\n",
            "Validset 76/100 Loss : 0.367, Accuracy : 82.078% \n",
            "\n",
            "Trainset 77/100 Loss : 0.072, Accuracy : 98.252%\n",
            "Validset 77/100 Loss : 0.31, Accuracy : 84.16% \n",
            "\n",
            "Trainset 78/100 Loss : 0.082, Accuracy : 98.353%\n",
            "Validset 78/100 Loss : 0.308, Accuracy : 81.829% \n",
            "\n",
            "Trainset 79/100 Loss : 0.089, Accuracy : 96.973%\n",
            "Validset 79/100 Loss : 0.305, Accuracy : 85.53% \n",
            "\n",
            "Trainset 80/100 Loss : 0.123, Accuracy : 95.67%\n",
            "Validset 80/100 Loss : 0.337, Accuracy : 80.31% \n",
            "\n",
            "Trainset 81/100 Loss : 0.064, Accuracy : 98.173%\n",
            "Validset 81/100 Loss : 0.312, Accuracy : 84.669% \n",
            "\n",
            "Trainset 82/100 Loss : 0.063, Accuracy : 97.687%\n",
            "Validset 82/100 Loss : 0.338, Accuracy : 83.86% \n",
            "\n",
            "Trainset 83/100 Loss : 0.094, Accuracy : 97.152%\n",
            "Validset 83/100 Loss : 0.266, Accuracy : 88.1% \n",
            "\n",
            "Trainset 84/100 Loss : 0.064, Accuracy : 98.4%\n",
            "Validset 84/100 Loss : 0.224, Accuracy : 91.48% \n",
            "\n",
            "Trainset 85/100 Loss : 0.073, Accuracy : 98.082%\n",
            "Validset 85/100 Loss : 0.273, Accuracy : 88.243% \n",
            "\n",
            "Trainset 86/100 Loss : 0.061, Accuracy : 96.908%\n",
            "Validset 86/100 Loss : 0.316, Accuracy : 83.905% \n",
            "\n",
            "Trainset 87/100 Loss : 0.057, Accuracy : 97.786%\n",
            "Validset 87/100 Loss : 0.324, Accuracy : 83.839% \n",
            "\n",
            "Trainset 88/100 Loss : 0.048, Accuracy : 98.429%\n",
            "Validset 88/100 Loss : 0.294, Accuracy : 84.622% \n",
            "\n",
            "Trainset 89/100 Loss : 0.064, Accuracy : 98.197%\n",
            "Validset 89/100 Loss : 0.297, Accuracy : 84.059% \n",
            "\n",
            "Trainset 90/100 Loss : 0.064, Accuracy : 98.703%\n",
            "Validset 90/100 Loss : 0.268, Accuracy : 87.057% \n",
            "\n",
            "Trainset 91/100 Loss : 0.047, Accuracy : 97.921%\n",
            "Validset 91/100 Loss : 0.276, Accuracy : 86.716% \n",
            "\n",
            "Trainset 92/100 Loss : 0.046, Accuracy : 99.142%\n",
            "Validset 92/100 Loss : 0.255, Accuracy : 87.467% \n",
            "\n",
            "Trainset 93/100 Loss : 0.085, Accuracy : 98.247%\n",
            "Validset 93/100 Loss : 0.317, Accuracy : 83.261% \n",
            "\n",
            "Trainset 94/100 Loss : 0.068, Accuracy : 97.615%\n",
            "Validset 94/100 Loss : 0.319, Accuracy : 88.071% \n",
            "\n",
            "Trainset 95/100 Loss : 0.068, Accuracy : 97.722%\n",
            "Validset 95/100 Loss : 0.309, Accuracy : 88.242% \n",
            "\n",
            "Trainset 96/100 Loss : 0.055, Accuracy : 97.718%\n",
            "Validset 96/100 Loss : 0.318, Accuracy : 86.744% \n",
            "\n",
            "Trainset 97/100 Loss : 0.072, Accuracy : 98.196%\n",
            "Validset 97/100 Loss : 0.282, Accuracy : 86.809% \n",
            "\n",
            "Trainset 98/100 Loss : 0.055, Accuracy : 98.005%\n",
            "Validset 98/100 Loss : 0.3, Accuracy : 90.62% \n",
            "\n",
            "Trainset 99/100 Loss : 0.051, Accuracy : 98.267%\n",
            "Validset 99/100 Loss : 0.391, Accuracy : 86.696% \n",
            "\n",
            "Trainset 100/100 Loss : 0.087, Accuracy : 97.762%\n",
            "Validset 100/100 Loss : 0.384, Accuracy : 86.254% \n",
            "\n"
          ]
        }
      ]
    },
    {
      "cell_type": "code",
      "source": [
        "import matplotlib.pyplot as plt\n",
        "import numpy as np\n",
        "\n",
        "arrowprops = dict(fc='white', color='red',arrowstyle=\"-|>\")\n",
        "font1 = {'family': 'serif',\n",
        "    'color':  'darkred',\n",
        "    'weight': 'normal',\n",
        "    'size': 16}\n",
        "  \n",
        "\n",
        "fig = plt.figure(figsize=(30,7),facecolor='black')\n",
        "plt = fig.subplots(1,2)\n",
        "\n",
        "train_score = {'Acc':train_acc_lst, 'Loss':train_loss_lst}\n",
        "valid_score = {'Acc':test_acc_lst, 'Loss':test_loss_lst}\n",
        "\n",
        "for i in range(len(train_score.keys())):\n",
        "  plt[i].plot(train_score[list(train_score.keys())[i]], c='cyan')\n",
        "  plt[i].plot(valid_score[list(valid_score.keys())[i]],c='magenta')\n",
        "  plt[i].set_title(list(valid_score.keys())[i],color='white', fontweight='bold', fontsize=30)\n",
        "  plt[i].set_ylabel(list(valid_score.keys())[i],color='white', fontweight='bold', fontsize=20)\n",
        "  plt[i].set_xlabel('Epoch',color='white', fontweight='bold', fontsize=20)\n",
        "  if i == 0:\n",
        "    plt[i].set_ylim([0,100])\n",
        "    plt[i].text(state['epoch']-40,40, \"Best Epoch : {}\".format(state['epoch']), \n",
        "            fontdict= {'color':  'white','weight': 'bold','size': 20})\n",
        "    plt[i].annotate(\"\",xy=(state['epoch']-1, 38),\n",
        "                xytext=(state['epoch']-40,38),\n",
        "                arrowprops=arrowprops)\n",
        "  else:\n",
        "    plt[i].set_ylim([0,1])\n",
        "    plt[i].text(state['epoch']-40,0.5, \"Best Epoch : {}\".format(state['epoch']), \n",
        "            fontdict= {'color':  'white','weight': 'bold','size': 20})\n",
        "    plt[i].annotate(\"\",xy=(state['epoch']-1, 0.49),\n",
        "                xytext=(state['epoch']-40,0.49),\n",
        "                arrowprops=arrowprops)\n",
        "\n",
        "  plt[i].set_xlim([-2, 100])\n",
        "  plt[i].legend(['Train', 'Test'], loc='upper left')\n",
        "  plt[i].axvline(x=state['epoch']-1, color='r', linestyle=':')\n",
        "  plt[i].tick_params(axis='x', colors='white')\n",
        "  plt[i].tick_params(axis='y', colors='white')\n",
        "  plt[i].patch.set_facecolor('#212529')\n",
        "\n",
        "\n"
      ],
      "metadata": {
        "colab": {
          "base_uri": "https://localhost:8080/",
          "height": 437
        },
        "id": "Za1QNVjtQwG9",
        "outputId": "31b11401-5f67-4610-b9d8-d395244f19ce"
      },
      "execution_count": 24,
      "outputs": [
        {
          "output_type": "display_data",
          "data": {
            "text/plain": [
              "<Figure size 2160x504 with 2 Axes>"
            ],
            "image/png": "[encoded data removed]"
          },
          "metadata": {}
        }
      ]
    },
    {
      "cell_type": "code",
      "source": [
        "print('100 epcohs 중 validset 기준 accuracy {} % 성능을 달성하였습니다.'.format(max(test_acc_lst)))"
      ],
      "metadata": {
        "colab": {
          "base_uri": "https://localhost:8080/"
        },
        "id": "z5Ezgpkfap1J",
        "outputId": "b3d4579c-970d-487a-97f8-d7a518957b6e"
      },
      "execution_count": 21,
      "outputs": [
        {
          "output_type": "stream",
          "name": "stdout",
          "text": [
            "100 epcohs 중 validset 기준 accuracy 91.48 % 성능을 달성하였습니다.\n"
          ]
        }
      ]
    },
    {
      "cell_type": "code",
      "source": [
        "state['epoch']"
      ],
      "metadata": {
        "colab": {
          "base_uri": "https://localhost:8080/"
        },
        "id": "TEMUVRKNlnIW",
        "outputId": "8a2c1af6-2586-406d-e095-1773f19ada61"
      },
      "execution_count": 22,
      "outputs": [
        {
          "output_type": "execute_result",
          "data": {
            "text/plain": [
              "84"
            ]
          },
          "metadata": {},
          "execution_count": 22
        }
      ]
    },
    {
      "cell_type": "code",
      "source": [],
      "metadata": {
        "id": "qiE_bAY4ltzu"
      },
      "execution_count": null,
      "outputs": []
    }
  ]
}
